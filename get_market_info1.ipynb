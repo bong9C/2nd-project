{
 "cells": [
  {
   "cell_type": "code",
   "execution_count": 46,
   "metadata": {},
   "outputs": [],
   "source": [
    "import requests\n",
    "import util.item_analysis as ui\n",
    "from urllib.parse import quote\n",
    "from selenium import webdriver\n",
    "from selenium.webdriver.common.by import By\n",
    "import time\n",
    "from bs4 import BeautifulSoup\n",
    "\n",
    "# 예\n",
    "market = ['심리 상담 센터']\n",
    "addr = '서울시 영등포구'\n",
    "\n",
    "# 고객이 입력한 상품을 파는 매장을 리스트로 가져오기\n",
    "market_list = market"
   ]
  },
  {
   "cell_type": "code",
   "execution_count": 47,
   "metadata": {},
   "outputs": [
    {
     "data": {
      "text/plain": [
       "'서울시 영등포구'"
      ]
     },
     "execution_count": 47,
     "metadata": {},
     "output_type": "execute_result"
    }
   ],
   "source": [
    "# 고객이 입력한 주소 ['시', '구'] 또는 ['군', '면', '리'] 가져오기\n",
    "addr_list = addr.split(' ')\n",
    "addr_list1 = []\n",
    "addr_list2 = []\n",
    "for i in addr_list:\n",
    "    if i[-1] == '시':\n",
    "        addr_list1.append(i)\n",
    "    elif i[-1] == '구':\n",
    "        addr_list1.append(i)\n",
    "    elif i[-1] == '군':\n",
    "        addr_list2.append(i)\n",
    "    elif i[-1] == '면':\n",
    "        addr_list2.append(i)\n",
    "    elif i[-1] == '리':\n",
    "        addr_list2.append(i)\n",
    "\n",
    "addr1 = ' '.join(addr_list1)\n",
    "addr2 = ' '.join(addr_list2)\n",
    "\n",
    "if addr1 != '':\n",
    "    addr = addr1\n",
    "else:\n",
    "    addr = addr2\n",
    "addr"
   ]
  },
  {
   "cell_type": "code",
   "execution_count": 48,
   "metadata": {},
   "outputs": [],
   "source": [
    "# 고객이 입력한 주소 좌표 구하기\n",
    "try:\n",
    "    with open('keys/카카오api.txt') as file:\n",
    "        kakao_key = file.read()\n",
    "\n",
    "    base_url = 'https://dapi.kakao.com/v2/local/search/address.json'\n",
    "    header = {'Authorization': f'KakaoAK {kakao_key}'}\n",
    "    url = f'{base_url}?query={quote(addr)}'\n",
    "    result = requests.get(url, headers=header).json()\n",
    "    lat = float(result['documents'][0]['y'])\n",
    "    lng = float(result['documents'][0]['x'])\n",
    "except:\n",
    "    print('주소 형식이 올바르지 않습니다.')"
   ]
  },
  {
   "cell_type": "code",
   "execution_count": 49,
   "metadata": {},
   "outputs": [
    {
     "data": {
      "text/plain": [
       "(37.5263635705036, 126.896273923703)"
      ]
     },
     "execution_count": 49,
     "metadata": {},
     "output_type": "execute_result"
    }
   ],
   "source": [
    "lat, lng"
   ]
  },
  {
   "cell_type": "code",
   "execution_count": 50,
   "metadata": {},
   "outputs": [],
   "source": [
    "# 네이버 플레이스 셀레니움으로 들어가기\n",
    "n_place_url = f'https://m.place.naver.com/place/list?x={lng}&y={lat}&query={market[0]} {addr}'\n",
    "driver = webdriver.Chrome()\n",
    "driver.get(n_place_url)"
   ]
  },
  {
   "cell_type": "code",
   "execution_count": 51,
   "metadata": {},
   "outputs": [],
   "source": [
    "# '목록보기' 클릭\n",
    "filter = driver.find_element(By.XPATH, '//*[@id=\"_place_portal_root\"]/div/a') \n",
    "filter.click()\n",
    "time.sleep(3)"
   ]
  },
  {
   "cell_type": "code",
   "execution_count": 52,
   "metadata": {},
   "outputs": [],
   "source": [
    "# '거리순' 클릭\n",
    "short_way = driver.find_element(By.XPATH, '//*[@id=\"_list_scroll_container\"]/div/div/div[1]/div/div/div/span[2]/a') \n",
    "short_way.click()\n",
    "time.sleep(3)"
   ]
  },
  {
   "cell_type": "code",
   "execution_count": 53,
   "metadata": {},
   "outputs": [],
   "source": [
    "# '상세 주소 화살표' 클릭\n",
    "try:\n",
    "    juso_way = driver.find_elements(By.CLASS_NAME, 'uFxr1')\n",
    "    juso_way[0].click()\n",
    "    time.sleep(1)\n",
    "except:\n",
    "    print('근처에 매장이 없습니다')"
   ]
  },
  {
   "cell_type": "code",
   "execution_count": 54,
   "metadata": {},
   "outputs": [
    {
     "data": {
      "text/plain": [
       "<li class=\"VLTHu\" data-laim-exp-id=\"undefined\"><div class=\"qbGlu\"><div class=\"ouxiq\"><a class=\"P7gyV\" href=\"https://m.place.naver.com/place/1069666803?entry=ple\" role=\"button\"><div class=\"ApCpt\"><div class=\"place_bluelink C6RjW\"><span class=\"YwYLL\">닥터앤맘</span><span class=\"YzBgS\">아동,청소년상담</span></div></div></a><a class=\"P7gyV\" href=\"https://m.place.naver.com/place/1069666803?entry=ple\" role=\"button\"><div class=\"iHXbN\"><div class=\"Gvf9B\"><span class=\"XP3ml yTY83\">영업 중</span><span class=\"XP3ml\">18:00에 영업 종료</span></div></div></a><div class=\"d7iiF\"><div class=\"KgfA6\"><span class=\"lWwyx NVngW\"><span class=\"place_blind\">현재 위치에서</span>220m</span><span class=\"lWwyx\"><a aria-expanded=\"true\" aria-haspopup=\"true\" class=\"uFxr1\" href=\"#\" role=\"button\"><span class=\"Pb4bU\">서울 영등포구 당산동3가</span><span class=\"_44_8\"><span class=\"place_blind\">상세주소 닫기</span><svg aria-hidden=\"true\" class=\"Y2sSu\" viewbox=\"0 0 13 8\" xmlns=\"http://www.w3.org/2000/svg\"><path d=\"M6.5 7.7L.1 1.4.8.7l5.6 5.6L12 .7l.7.7-6.2 6.3z\"></path></svg></span></a></span><div><div class=\"AbTyi\"><div class=\"zZfO1\"><span class=\"MN3sj\">도로명</span>서울특별시 영등포구 양산로17길 23 1층<span class=\"avoc6\"><a class=\"_vIMk place_bluelink\" href=\"#\" role=\"button\" title=\"복사\">복사</a></span></div><div class=\"zZfO1\"><span class=\"MN3sj\">지번</span>서울특별시 영등포구 당산동3가 558-5<span class=\"avoc6\"><a class=\"_vIMk place_bluelink\" href=\"#\" role=\"button\" title=\"복사\">복사</a></span></div><div class=\"zZfO1\"><span aria-hidden=\"true\" class=\"MN3sj hveic\">우</span><span class=\"place_blind\">우편번호</span>07261<span class=\"avoc6\"><a class=\"_vIMk place_bluelink\" href=\"#\" role=\"button\" title=\"복사\">복사</a></span></div><a class=\"yVGVT\" href=\"#\" role=\"button\"><span class=\"place_blind\">팝업 닫기</span><svg aria-hidden=\"true\" class=\"Y2sSu\" viewbox=\"0 0 12 12\" xmlns=\"http://www.w3.org/2000/svg\"><path d=\"M11.3 12L6 6.7.7 12l-.7-.7L5.3 6 0 .7.7 0 6 5.3 11.3 0l.7.7L6.7 6l5.3 5.3z\"></path></svg></a></div></div></div></div></div></div><div class=\"B5sp_\" data-nclicks-area-code=\"vsl\"><div class=\"kXw6i\"><div><div class=\"ngGKH\"><div class=\"flicking-viewport\" style=\"user-select: none; -webkit-user-drag: none; touch-action: pan-y;\"><div class=\"flicking-camera\" style=\"transform: translate(0px);\"><span class=\"JsCty\"><a class=\"_T0lO\" data-for-biz-catcher=\"mainNumber=0507-1346-6835&amp;callSource=PLACE_DETAIL&amp;keyword=%EC%8B%AC%EB%A6%AC%20%EC%83%81%EB%8B%B4%20%EC%84%BC%ED%84%B0%20%EC%84%9C%EC%9A%B8%EC%8B%9C%20%EC%98%81%EB%93%B1%ED%8F%AC%EA%B5%AC&amp;description=1069666803\" href=\"tel:0507-1346-6835\" role=\"button\" target=\"_self\"><svg aria-hidden=\"true\" class=\"yR6ue\" viewbox=\"0 0 16 16\" xmlns=\"http://www.w3.org/2000/svg\"><path d=\"M14.7 11.2l-3.4-3.4c-.1-.2-.4-.3-.6-.3s-.4.1-.6.3L8.8 9.1C8.1 8.6 7.4 8 6.9 7.3l1.3-1.4c.1-.2.2-.4.2-.6s0-.4-.2-.6L4.7 1.2c-.2-.1-.4-.2-.6-.2-.2 0-.4.1-.6.2L1.2 3.6c-.2.2-.2.4-.1.7.3 1.8 1 3.4 2 4.9.9 1.5 2.2 2.8 3.6 3.7 1.5 1 3.1 1.6 4.9 2h.2c.2 0 .4-.1.6-.2l2.3-2.3c.1-.2.2-.4.2-.6s-.1-.4-.2-.6zm-2.9 2.6c-1.6-.3-3.1-.9-4.4-1.8C6 11.1 4.9 10 4 8.6c-.9-1.3-1.5-2.8-1.9-4.4l2-2 3.2 3.1-1.2 1.2c-.3.4-.4.9-.1 1.3.6.9 1.4 1.7 2.3 2.2.4.3.9.2 1.2-.1l1.2-1.2 3.1 3.1-2 2z\"></path></svg>전화</a></span><span class=\"JsCty\"><a class=\"_T0lO\" href=\"https://m.search.naver.com/search.naver?where=m&amp;query=%EB%B9%A0%EB%A5%B8%EA%B8%B8%EC%B0%BE%EA%B8%B0&amp;nso_path=placeType%5Eplace%3Bname%5E%3Baddress%5E%3Blatitude%5E%3Blongitude%5E%3Bcode%5E%7Ctype%5Eplace%3Bname%5E%EB%8B%A5%ED%84%B0%EC%95%A4%EB%A7%98%3Baddress%5E%3Bcode%5E1069666803%3Blongitude%5E126.8937650%3Blatitude%5E37.5266854%7Cobjtype%5Epath%3Bby%5Epubtrans\" role=\"button\" target=\"_self\"><svg aria-hidden=\"true\" class=\"yR6ue\" viewbox=\"0 0 16 16\" xmlns=\"http://www.w3.org/2000/svg\"><path d=\"M8.9 1.1c.2-.2.6-.2.8 0l4.2 4c.2.2.2.6 0 .8-.2.2-.6.2-.8 0l-3.1-3v4.8c0 .9-.7 1.6-1.6 1.6H3.5c-.2 0-.4.2-.4.4v4.8c0 .3-.3.6-.6.6s-.6-.3-.6-.6V9.7c0-.9.7-1.6 1.6-1.6h4.8c.2 0 .4-.2.4-.4V2.9L5.6 6c-.2.2-.6.2-.8 0s-.2-.6 0-.8l4.1-4.1z\"></path></svg>길찾기</a></span><span class=\"JsCty\"><a class=\"_T0lO naver-splugin spi_sns_share\" data-friend-display=\"on\" data-kakaostory-display=\"off\" data-kakaotalk-button-text=\"네이버 플레이스로 보기\" data-kakaotalk-description=\"서울특별시 영등포구 양산로17길 23 1층\" data-kakaotalk-template-type=\"custom_web\" data-kakaotalk-title=\"닥터앤맘\" data-line-description=\"서울특별시 영등포구 양산로17길 23 1층\" data-line-template-type=\"custom_web\" data-line-title=\"닥터앤맘\" data-style=\"one-button\" data-title=\"닥터앤맘\n",
       "서울특별시 영등포구 양산로17길 23 1층\" data-url=\"https://m.place.naver.com/share?id=1069666803&amp;appMode=detail\" data-url-extra=\"닥터앤맘\n",
       "서울특별시 영등포구 양산로17길 23 1층\" href=\"#\" id=\"_vsl.share\" splugin-id=\"148038635\" target=\"_self\"><svg aria-hidden=\"true\" class=\"yR6ue\" viewbox=\"0 0 16 16\" xmlns=\"http://www.w3.org/2000/svg\"><path d=\"M15.6 4.6l-4-3.4c-.5-.5-1.3-.1-1.3.6v1.7c-3.9 0-5.9 3-6.3 4.8-.1.3.1.6.4.8.2.1.6.1.8-.1.7-.7 1.8-1.1 2.9-1.4.8-.2 1.6-.2 2.2-.2v1.7c0 .7.8 1.1 1.3.6l4-3.4c.5-.5.5-1.3 0-1.7zm-4.1 3.7V7c0-.4-.3-.7-.6-.7-.7-.1-1.8-.1-3 .2-.7.1-1.4.2-2 .5.8-1.2 2.4-2.5 4.9-2.3.3.1.7-.2.7-.7V2.7l3.2 2.8-3.2 2.8zm3.1 2.6v3.5c0 .5-.4.9-.9.9H1.3a.9.9 0 01-.9-.9V2.7c0-.5.4-.9.9-.9h3.9c.3 0 .6.3.6.6s-.3.6-.6.6H1.8c-.1 0-.2.1-.2.2v10.7c0 .1.1.2.2.2h11.4c.1 0 .2-.1.2-.2v-3c0-.3.3-.6.6-.6s.6.3.6.6z\"></path></svg>공유</a></span></div><a class=\"PznE8 hcZFX\" href=\"#\" role=\"button\"><span class=\"nK_aH\"><svg aria-hidden=\"true\" class=\"Vg1dR\" viewbox=\"0 0 8 12\" xmlns=\"http://www.w3.org/2000/svg\"><path d=\"M2 11.4l-1-1.1 4.4-4.5L1 1.4 2 .3l5.6 5.5L2 11.4z\"></path></svg><span class=\"place_blind\">이전</span></span></a><a class=\"ZCqf_ hcZFX\" href=\"#\" role=\"button\"><span class=\"nK_aH\"><svg aria-hidden=\"true\" class=\"Vg1dR\" viewbox=\"0 0 8 12\" xmlns=\"http://www.w3.org/2000/svg\"><path d=\"M2 11.4l-1-1.1 4.4-4.5L1 1.4 2 .3l5.6 5.5L2 11.4z\"></path></svg><span class=\"place_blind\">다음</span></span></a></div></div></div></div></div></li>"
      ]
     },
     "execution_count": 54,
     "metadata": {},
     "output_type": "execute_result"
    }
   ],
   "source": [
    "# 마켓 정보 불러오기\n",
    "soup = BeautifulSoup(driver.page_source)\n",
    "market_list = soup.find('ul', class_='eDFz9')\n",
    "mart = market_list.find('li', recursive=False)\n",
    "mart"
   ]
  },
  {
   "cell_type": "code",
   "execution_count": 55,
   "metadata": {},
   "outputs": [
    {
     "data": {
      "text/plain": [
       "'//*[@id=\"_list_scroll_container\"]/div/div/div[2]/ul/li[1]/div[1]/div/div/div/div/div'"
      ]
     },
     "execution_count": 55,
     "metadata": {},
     "output_type": "execute_result"
    }
   ],
   "source": [
    "('//*[@id=\"_list_scroll_container\"]/div/div/div[2]/ul/li[1]/div[1]/div/div/div/div/div')"
   ]
  },
  {
   "cell_type": "code",
   "execution_count": 57,
   "metadata": {},
   "outputs": [
    {
     "data": {
      "text/plain": [
       "'서울특별시 영등포구 당산동3가 558-5'"
      ]
     },
     "execution_count": 57,
     "metadata": {},
     "output_type": "execute_result"
    }
   ],
   "source": [
    "market_list.select_one('div.AbTyi').get_text().split('복사')[1][2:]"
   ]
  },
  {
   "cell_type": "code",
   "execution_count": 58,
   "metadata": {},
   "outputs": [
    {
     "data": {
      "text/plain": [
       "[{'거리': '220m', '매장명': '닥터앤맘', '주소': 'N/A'},\n",
       " {'거리': '300m', '매장명': '같이심리상담센터', '주소': 'N/A'},\n",
       " {'거리': '350m', '매장명': '당신의 마음거울', '주소': 'N/A'},\n",
       " {'거리': '380m', '매장명': '다빈치심리상담센터', '주소': 'N/A'},\n",
       " {'거리': '530m', '매장명': '서울예술심리상담센터', '주소': 'N/A'},\n",
       " {'거리': '590m', '매장명': '아하서울시립청소년성문화센터', '주소': 'N/A'},\n",
       " {'거리': '740m', '매장명': '힐마인드언어심리상담센터', '주소': 'N/A'},\n",
       " {'거리': '750m', '매장명': '세계로최면심리상담센터', '주소': 'N/A'},\n",
       " {'거리': '790m', '매장명': '남부Wee센터', '주소': 'N/A'},\n",
       " {'거리': '890m', '매장명': '풀빛옹이 심리상담센터', '주소': 'N/A'},\n",
       " {'거리': '950m', '매장명': '성모심리상담센터', '주소': 'N/A'},\n",
       " {'거리': '990m', '매장명': '최정금심리학습클리닉', '주소': 'N/A'},\n",
       " {'거리': '1.0km', '매장명': '연세오푸스심리상담센터', '주소': 'N/A'},\n",
       " {'거리': '1.0km', '매장명': '코리안민트심리상담센터', '주소': 'N/A'},\n",
       " {'거리': '1.0km', '매장명': '다움심리상담센터', '주소': 'N/A'},\n",
       " {'거리': '1.0km', '매장명': '분석심리학연구소', '주소': 'N/A'},\n",
       " {'거리': '1.1km', '매장명': '인애', '주소': 'N/A'},\n",
       " {'거리': '1.1km', '매장명': '보보애 심리상담센터', '주소': 'N/A'},\n",
       " {'거리': '1.1km', '매장명': '수아람심리상담센터', '주소': 'N/A'},\n",
       " {'거리': '1.1km', '매장명': '마음 in 심리상담센터', '주소': 'N/A'},\n",
       " {'거리': 'N/A', '매장명': 'N/A', '주소': 'N/A'},\n",
       " {'거리': '1.3km', '매장명': '마음의 정원 최면심리상담센터', '주소': 'N/A'},\n",
       " {'거리': '1.6km', '매장명': '말랑말랑연구소', '주소': 'N/A'},\n",
       " {'거리': '1.7km', '매장명': '청소년상담실 영등포지구', '주소': 'N/A'},\n",
       " {'거리': '1.7km', '매장명': '새길 아동청소년 상담센터', '주소': 'N/A'},\n",
       " {'거리': '1.8km', '매장명': '한꿈상담심리센터', '주소': 'N/A'},\n",
       " {'거리': '1.8km', '매장명': '심리상담센터보듬과아우름', '주소': 'N/A'},\n",
       " {'거리': '1.8km', '매장명': '한겨레심리상담센터', '주소': 'N/A'},\n",
       " {'거리': '1.8km', '매장명': '자기다운 심리상담센터', '주소': 'N/A'},\n",
       " {'거리': '1.8km', '매장명': '김세하 아동청소년 상담센터', '주소': 'N/A'},\n",
       " {'거리': '1.8km', '매장명': '마음선생님심리연구소', '주소': 'N/A'},\n",
       " {'거리': '1.8km', '매장명': '지수심리상담센터', '주소': 'N/A'},\n",
       " {'거리': '1.8km', '매장명': '극동상담심리연구학회', '주소': 'N/A'},\n",
       " {'거리': '1.8km', '매장명': '진솔심리상담센터', '주소': 'N/A'},\n",
       " {'거리': '1.8km', '매장명': '그루터기심리상담센터 목동점', '주소': 'N/A'},\n",
       " {'거리': '1.8km', '매장명': '마인드업 심리상담연구소', '주소': 'N/A'},\n",
       " {'거리': '1.9km', '매장명': '마음치유클리닉 심리상담센터', '주소': 'N/A'},\n",
       " {'거리': '1.9km', '매장명': '허그맘허그인 심리상담센터 목동직영점', '주소': 'N/A'},\n",
       " {'거리': '1.9km', '매장명': '마인드줌심리상담센터', '주소': 'N/A'},\n",
       " {'거리': '1.9km', '매장명': '영등포구청소년상담복지센터', '주소': 'N/A'},\n",
       " {'거리': '1.9km', '매장명': '선 심리상담센터', '주소': 'N/A'},\n",
       " {'거리': '1.9km', '매장명': '목동심리상담센터', '주소': 'N/A'},\n",
       " {'거리': '2.0km', '매장명': '위드심리상담센터', '주소': 'N/A'},\n",
       " {'거리': '2.0km', '매장명': '심리상담센터깸', '주소': 'N/A'},\n",
       " {'거리': '2.1km', '매장명': 'LEV심리상담센터', '주소': 'N/A'},\n",
       " {'거리': '2.1km', '매장명': '푸른상담센타', '주소': 'N/A'},\n",
       " {'거리': '2.1km', '매장명': '봄날의 햇살 심리상담센터', '주소': 'N/A'},\n",
       " {'거리': '2.1km', '매장명': '미래상담센타', '주소': 'N/A'},\n",
       " {'거리': '2.1km', '매장명': '새봄상담센타', '주소': 'N/A'},\n",
       " {'거리': '2.1km', '매장명': '유해피 아동청소년성인 심리상담센터 목동점', '주소': 'N/A'},\n",
       " {'거리': '2.2km', '매장명': '성공독서코칭센터', '주소': 'N/A'},\n",
       " {'거리': '2.2km', '매장명': '헬로스마일심리상담센터 목동점', '주소': 'N/A'},\n",
       " {'거리': '2.3km', '매장명': '아문심리상담센터', '주소': 'N/A'},\n",
       " {'거리': '2.3km', '매장명': '포근한마음심리상담센터', '주소': 'N/A'},\n",
       " {'거리': '2.4km', '매장명': '첨단인지브레인 신도림점', '주소': 'N/A'},\n",
       " {'거리': '2.4km', '매장명': '조이심리상담센터', '주소': 'N/A'},\n",
       " {'거리': '2.5km', '매장명': '국제아동발달클리닉', '주소': 'N/A'},\n",
       " {'거리': '2.6km', '매장명': '마음iN심리상담센터 여의도점', '주소': 'N/A'},\n",
       " {'거리': '2.6km', '매장명': '로뎀나무 진로설계 & 심리상담센터', '주소': 'N/A'},\n",
       " {'거리': '2.6km', '매장명': '아르케정신건강의학과의원', '주소': 'N/A'},\n",
       " {'거리': '2.7km', '매장명': '여의도심리상담센터', '주소': 'N/A'},\n",
       " {'거리': '2.7km', '매장명': '허그맘허그인 심리상담센터 신도림직영센터', '주소': 'N/A'},\n",
       " {'거리': '2.8km', '매장명': '이주은 부부상담 본점', '주소': 'N/A'},\n",
       " {'거리': '2.8km', '매장명': '심리상담센터 공감', '주소': 'N/A'},\n",
       " {'거리': '2.9km', '매장명': '나우심리상담연구소', '주소': 'N/A'},\n",
       " {'거리': '2.9km', '매장명': '홀트서울심리상담센터', '주소': 'N/A'},\n",
       " {'거리': '2.9km', '매장명': '햇살심리상담센터', '주소': 'N/A'},\n",
       " {'거리': '3.0km', '매장명': '한국RT센터 통합발달센터', '주소': 'N/A'},\n",
       " {'거리': '3.0km', '매장명': '마음벗심리상담센터', '주소': 'N/A'},\n",
       " {'거리': '3.0km', '매장명': '마음둥지심리상담센터', '주소': 'N/A'},\n",
       " {'거리': '3.0km', '매장명': '아라심리상담센터', '주소': 'N/A'},\n",
       " {'거리': '3.0km', '매장명': '조이에듀', '주소': 'N/A'},\n",
       " {'거리': '3.1km', '매장명': '마포구청소년상담복지센터', '주소': 'N/A'},\n",
       " {'거리': '3.1km', '매장명': '봄날심리상담센터', '주소': 'N/A'},\n",
       " {'거리': '3.1km', '매장명': '헤아림심리상담센터', '주소': 'N/A'},\n",
       " {'거리': '3.1km', '매장명': '서울아이 발달지원센터', '주소': 'N/A'},\n",
       " {'거리': '3.2km', '매장명': '코끼리아동청소년발달센터', '주소': 'N/A'},\n",
       " {'거리': '3.2km', '매장명': '국제심리인지클리닉', '주소': 'N/A'},\n",
       " {'거리': '3.2km', '매장명': '로뎀심리상담센터', '주소': 'N/A'},\n",
       " {'거리': '3.2km', '매장명': '늘푸른심리상담센터', '주소': 'N/A'},\n",
       " {'거리': '3.2km', '매장명': '마미심리상담센터', '주소': 'N/A'},\n",
       " {'거리': '3.2km', '매장명': '허그맘허그인심리상담센터 여의도센터', '주소': 'N/A'},\n",
       " {'거리': '3.3km', '매장명': '서울아동상담센터', '주소': 'N/A'},\n",
       " {'거리': '3.3km', '매장명': '자기의 이유 심리상담소', '주소': 'N/A'},\n",
       " {'거리': '3.5km', '매장명': '아트힐링심리센터 브엘세바', '주소': 'N/A'},\n",
       " {'거리': '3.5km', '매장명': '한신플러스케어 상담센터', '주소': 'N/A'},\n",
       " {'거리': '3.7km', '매장명': '남흥기획', '주소': 'N/A'},\n",
       " {'거리': '3.7km', '매장명': '펀아테심리상담센터', '주소': 'N/A'},\n",
       " {'거리': '3.8km', '매장명': '나다운심리상담센터', '주소': 'N/A'},\n",
       " {'거리': '3.8km', '매장명': '하나아동발달센터', '주소': 'N/A'},\n",
       " {'거리': '3.9km', '매장명': '베스트윤심리상담센터', '주소': 'N/A'},\n",
       " {'거리': '3.9km', '매장명': '빛그림심리상담센터', '주소': 'N/A'},\n",
       " {'거리': '3.9km', '매장명': '김선남 심리상담센터', '주소': 'N/A'},\n",
       " {'거리': '3.9km', '매장명': '마음샘아동청소년발달심리센터', '주소': 'N/A'},\n",
       " {'거리': '4.1km', '매장명': '마포Wee센터', '주소': 'N/A'},\n",
       " {'거리': '4.1km', '매장명': '서울마인드브릿지심리상담센터', '주소': 'N/A'},\n",
       " {'거리': '4.1km', '매장명': '마인드줌심리상담센터', '주소': 'N/A'},\n",
       " {'거리': '4.2km', '매장명': '착한벗심리상담센터', '주소': 'N/A'},\n",
       " {'거리': '4.3km', '매장명': '동작구청소년상담복지센터', '주소': 'N/A'},\n",
       " {'거리': '4.3km', '매장명': '마인드페이지', '주소': 'N/A'},\n",
       " {'거리': '4.3km', '매장명': '따움상담센터', '주소': 'N/A'}]"
      ]
     },
     "execution_count": 58,
     "metadata": {},
     "output_type": "execute_result"
    }
   ],
   "source": [
    "results = []\n",
    "\n",
    "# 네이버 플레이스 셀레니움으로 들어가기\n",
    "n_place_url = f'https://m.place.naver.com/place/list?x={lng}&y={lat}&query={market[0]} {addr}'\n",
    "driver = webdriver.Chrome()\n",
    "driver.get(n_place_url)\n",
    "\n",
    "\n",
    "# '목록보기' 클릭\n",
    "filter = driver.find_element(By.XPATH, '//*[@id=\"_place_portal_root\"]/div/a') \n",
    "filter.click()\n",
    "time.sleep(3)\n",
    "\n",
    "# '거리순' 클릭\n",
    "short_way = driver.find_element(By.XPATH, '//*[@id=\"_list_scroll_container\"]/div/div/div[1]/div/div/div/span[2]/a') \n",
    "short_way.click()\n",
    "time.sleep(3)\n",
    "\n",
    "# 마켓 정보 불러오기\n",
    "soup = BeautifulSoup(driver.page_source, 'html.parser')\n",
    "center_list = soup.find('ul', class_='eDFz9')\n",
    "for i in range(len(center_list.select('li', recursive=False))):\n",
    "   \n",
    "    if center_list:\n",
    "        center = center_list.select('li', recursive=False)[i]\n",
    "\n",
    "        if center:\n",
    "            # 현재 위치에서 마켓 거리\n",
    "            c_distance_element = center.select_one('span.lWwyx.NVngW')\n",
    "            c_distance = c_distance_element.get_text().split('서')[1] if c_distance_element else 'N/A'\n",
    "\n",
    "            # 마켓 이름\n",
    "            if center.select_one('span.YwYLL'):\n",
    "                c_title = center.select_one('span.YwYLL').get_text() \n",
    "            else:\n",
    "                c_title = 'N/A'   \n",
    "\n",
    "             # '상세 주소 화살표' 클릭\n",
    "            try:\n",
    "                juso_way = driver.find_elements(By.CLASS_NAME, 'uFxr1')\n",
    "                juso_way[i].click()\n",
    "                soup = BeautifulSoup(driver.page_source, 'html.parser')\n",
    "                center_list = soup.find('ul', class_='eDFz9')\n",
    "                # 마켓 도로명 주소\n",
    "                if  center_list.select_one('div.zZfO1'):\n",
    "                    if center_list.select_one('div.zZfO1').get_text()[:2] == '도로':\n",
    "                        c_addr = center_list.select_one('div.zZfO1').get_text().split('복사')[0][3:]\n",
    "                    elif center_list.select_one('div.zZfO1').get_text()[:2] == '지번':\n",
    "                        c_addr = center_list.select_one('div.zZfO1').get_text().split('복사')[1][2:]\n",
    "                    else:\n",
    "                        c_addr = center_list.select_one('div.zZfO1').get_text().split('복사')[1][2:]\n",
    "                else:\n",
    "                    c_addr = 'N/A' \n",
    "                time.sleep(1)\n",
    "            except:\n",
    "                print('근처에 매장이 없습니다')\n",
    "# 딕셔너리 형태로 저장\n",
    "            center_data = {\n",
    "                '거리': c_distance,\n",
    "                '매장명': c_title,\n",
    "                '주소': c_addr\n",
    "            }\n",
    "            # 딕셔너리 형태로 저장한 것을 리스트에 저장 (3가지 마켓을 넣어야 하므로)\n",
    "            results.append(center_data)\n",
    "\n",
    "        else:\n",
    "            print('마켓 정보를 찾을 수 없습니다.')\n",
    "    else:\n",
    "        print('마켓 리스트를 찾을 수 없습니다.')\n",
    "\n",
    "\n",
    "results"
   ]
  },
  {
   "cell_type": "code",
   "execution_count": null,
   "metadata": {},
   "outputs": [
    {
     "ename": "AttributeError",
     "evalue": "'NoneType' object has no attribute 'get_text'",
     "output_type": "error",
     "traceback": [
      "\u001b[1;31m---------------------------------------------------------------------------\u001b[0m",
      "\u001b[1;31mAttributeError\u001b[0m                            Traceback (most recent call last)",
      "\u001b[1;32mc:\\Users\\human\\Downloads\\map\\get_market_info1.ipynb 셀 11\u001b[0m line \u001b[0;36m5\n\u001b[0;32m      <a href='vscode-notebook-cell:/c%3A/Users/human/Downloads/map/get_market_info1.ipynb#X12sZmlsZQ%3D%3D?line=2'>3</a>\u001b[0m m_distance \u001b[39m=\u001b[39m mart\u001b[39m.\u001b[39mselect_one(\u001b[39m'\u001b[39m\u001b[39mspan.lWwyx.NVngW\u001b[39m\u001b[39m'\u001b[39m)\u001b[39m.\u001b[39mget_text()\u001b[39m.\u001b[39msplit(\u001b[39m'\u001b[39m\u001b[39m서\u001b[39m\u001b[39m'\u001b[39m)[\u001b[39m1\u001b[39m]\n\u001b[0;32m      <a href='vscode-notebook-cell:/c%3A/Users/human/Downloads/map/get_market_info1.ipynb#X12sZmlsZQ%3D%3D?line=3'>4</a>\u001b[0m \u001b[39m# 마켓 이름\u001b[39;00m\n\u001b[1;32m----> <a href='vscode-notebook-cell:/c%3A/Users/human/Downloads/map/get_market_info1.ipynb#X12sZmlsZQ%3D%3D?line=4'>5</a>\u001b[0m m_title \u001b[39m=\u001b[39m mart\u001b[39m.\u001b[39mselect_one(\u001b[39m'\u001b[39m\u001b[39mspan.place_bluelink.YwYLL\u001b[39m\u001b[39m'\u001b[39m)\u001b[39m.\u001b[39mget_text()\n\u001b[0;32m      <a href='vscode-notebook-cell:/c%3A/Users/human/Downloads/map/get_market_info1.ipynb#X12sZmlsZQ%3D%3D?line=5'>6</a>\u001b[0m \u001b[39m# 마켓 도로명 주소\u001b[39;00m\n\u001b[0;32m      <a href='vscode-notebook-cell:/c%3A/Users/human/Downloads/map/get_market_info1.ipynb#X12sZmlsZQ%3D%3D?line=6'>7</a>\u001b[0m \u001b[39mif\u001b[39;00m mart\u001b[39m.\u001b[39mselect_one(\u001b[39m'\u001b[39m\u001b[39mdiv.zZfO1\u001b[39m\u001b[39m'\u001b[39m)\u001b[39m.\u001b[39mget_text()[:\u001b[39m2\u001b[39m] \u001b[39m==\u001b[39m \u001b[39m'\u001b[39m\u001b[39m지번\u001b[39m\u001b[39m'\u001b[39m:\n",
      "\u001b[1;31mAttributeError\u001b[0m: 'NoneType' object has no attribute 'get_text'"
     ]
    }
   ],
   "source": [
    "results = []\n",
    "# 현재 위치에서 마켓 거리\n",
    "m_distance = mart.select_one('span.lWwyx.NVngW').get_text().split('서')[1]\n",
    "# 마켓 이름\n",
    "m_title = mart.select_one('span.place_bluelink.YwYLL').get_text()\n",
    "# 마켓 도로명 주소\n",
    "if mart.select_one('div.zZfO1').get_text()[:2] == '지번':\n",
    "    m_addr = mart.select_one('div.zZfO1').get_text()[2:-2]\n",
    "else:\n",
    "    m_addr = mart.select_one('div.zZfO1').get_text()[3:-2]\n",
    "# 딕셔너리 형태로 저장\n",
    "market_data = {\n",
    "    '거리': m_distance,\n",
    "    '매장명': m_title,\n",
    "    '주소': m_addr\n",
    "}\n",
    "# 딕셔너리 형태로 저장한 것을 리스트에 저장 (3가지 마켓을 넣어야 하므로)\n",
    "results.append(market_data)\n",
    "results"
   ]
  },
  {
   "cell_type": "code",
   "execution_count": null,
   "metadata": {},
   "outputs": [],
   "source": []
  }
 ],
 "metadata": {
  "kernelspec": {
   "display_name": "base",
   "language": "python",
   "name": "python3"
  },
  "language_info": {
   "codemirror_mode": {
    "name": "ipython",
    "version": 3
   },
   "file_extension": ".py",
   "mimetype": "text/x-python",
   "name": "python",
   "nbconvert_exporter": "python",
   "pygments_lexer": "ipython3",
   "version": "3.11.4"
  }
 },
 "nbformat": 4,
 "nbformat_minor": 2
}
